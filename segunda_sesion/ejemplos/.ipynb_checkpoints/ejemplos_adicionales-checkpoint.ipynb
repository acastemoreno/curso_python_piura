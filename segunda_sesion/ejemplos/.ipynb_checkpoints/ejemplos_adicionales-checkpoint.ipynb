{
 "cells": [
  {
   "cell_type": "code",
   "execution_count": 10,
   "metadata": {},
   "outputs": [
    {
     "name": "stdout",
     "output_type": "stream",
     "text": [
      "None\n"
     ]
    }
   ],
   "source": [
    "import re\n",
    "pattern = r\"foo|foot\"\n",
    "reobject = re.compile(pattern)\n",
    "result = reobject.match(\"barefoot\")\n",
    "print(result)"
   ]
  },
  {
   "cell_type": "code",
   "execution_count": 9,
   "metadata": {},
   "outputs": [
    {
     "name": "stdout",
     "output_type": "stream",
     "text": [
      "['foot', 'foo', 'foot']\n"
     ]
    }
   ],
   "source": [
    "result = re.findall(r\"foot|foo\", \"barefoot foo foot\")\n",
    "print(result)"
   ]
  },
  {
   "cell_type": "code",
   "execution_count": 86,
   "metadata": {},
   "outputs": [
    {
     "name": "stdout",
     "output_type": "stream",
     "text": [
      "['ips', 'ons', 'ect', 'isc', 'ing', 'ulv', 'urn', 'itt', 'itt', 'est', 'unc', 'err', 'and', 'ull', 'agn', 'ell', 'ent', 'esq', 'ons', 'ect', 'onc', 'itt', 'ort', 'end', 'and', 'itt', 'ign', 'iss', 'inc', 'unt', 'isq', 'ips', 'urs', 'ull', 'amc', 'orp', 'est', 'urs', 'ell', 'ulp', 'ultr', 'est', 'ist', 'agn', 'orc', 'utr', 'ulv', 'utr', 'agn', 'ent', 'ong', 'emp', 'ull', 'inc', 'unt', 'utp', 'ortt', 'uct', 'urs', 'ulp', 'unc', 'ond', 'ent', 'ort', 'euism', 'ull', 'imp', 'erd', 'ust', 'ull', 'amc', 'orp', 'ass', 'est', 'unc', 'ort', 'ell', 'ent', 'esq', 'agn', 'emp', 'onv', 'all', 'ull', 'ull', 'amc', 'orp', 'unc', 'ell', 'ent', 'esq', 'emp', 'int', 'erd', 'ort', 'endr', 'euism', 'ull', 'ips', 'ons', 'ect', 'isc', 'ing', 'orb', 'ing', 'ill', 'ent', 'usc', 'ibh', 'orc', 'end', 'ibh', 'uct', 'uct', 'ict', 'euism', 'onv', 'all', 'isl', 'uisq', 'ons', 'ant', 'ull', 'amc', 'orp', 'ist', 'urs', 'ell', 'ent', 'esq', 'urp', 'ist', 'eff', 'orn', 'ips', 'ons', 'ect', 'isc', 'ing', 'ull', 'end', 'ons', 'ect', 'etr', 'ond', 'ent', 'ing', 'ill', 'unc', 'utr', 'ull', 'ust', 'urs', 'etr', 'utp', 'ull', 'ell', 'ent', 'esq', 'est', 'est', 'agn', 'ell', 'ent', 'esq', 'ull', 'amc', 'orp', 'est', 'endr', 'utr', 'est', 'emp', 'acc', 'ums', 'ass', 'ell', 'ent', 'esq', 'ibh', 'ortt', 'emp']\n"
     ]
    }
   ],
   "source": [
    "import re\n",
    "patron = re.compile(r\"[aeiou]+[^aeiou ,.]{2,}\")\n",
    "with open(\"texto_ejemplo.txt\") as open_file:\n",
    "    data = open_file.read()\n",
    "    print(patron.findall(data))"
   ]
  },
  {
   "cell_type": "code",
   "execution_count": 47,
   "metadata": {},
   "outputs": [
    {
     "name": "stdout",
     "output_type": "stream",
     "text": [
      "['Grant Cornwell,', 'Marvin Krislov,', 'Mark Roosevelt,', 'Laurie Joyner,', 'Richard Giese,', 'Sean Decatur,', 'Adam Weinberg,', 'Daniel Dibiasio,', 'Denvy Bowman,', 'Anne Steele,', 'Kathy Krendl,', 'Rockwell Jones,', 'Robert Helmer,', 'Robert Huntington,', 'Lori Varlotta,', 'Joseph Bruno,', 'W. Richard Merriman Jr.,']\n",
      "['College of Wooster', 'Oberlin College', 'Antioch College', 'Wittenberg University', 'University of Mount Union', 'Kenyon College', 'Denison University', 'Ohio Northern University', 'Capital University', 'Muskingum University', 'Otterbein University', 'Ohio Wesleyan University', 'Baldwin Wallace University', 'Heidelberg University', 'Hiram College', 'Marietta College', 'University of Mount Union']\n",
      "[911651, 829913, 507672, 463504, 453800, 451698, 435322, 414716, 388570, 384233, 378035, 366625, 365616, 300005, 293336, 288295, 221761]\n"
     ]
    }
   ],
   "source": [
    "import re\n",
    "import requests\n",
    "r = requests.get('https://bit.ly/2ntSh2C')\n",
    "c = r.content #Extraer el contenido\n",
    "from bs4 import BeautifulSoup #Libreria para Scraping html y xml\n",
    "soup = BeautifulSoup(c, 'html.parser')\n",
    "\n",
    "#Buscando la lista de elementos que nos interesa\n",
    "list_li = soup.find('div', attrs = {'class': 'entry-content'}).find(\"ul\").find_all(\"li\")\n",
    "list_text = list(map(lambda item: item.text, list_li))\n",
    "\n",
    "# Creando regex para nombre de presidente\n",
    "name_pattern = re.compile(r\"^([A-Z]{1}.+?),\")\n",
    "names = list(map(lambda item: name_pattern.search(item).group(), list_text))\n",
    "print(names)\n",
    "\n",
    "# Regex para escuela y salario\n",
    "school_pattern = re.compile(r\"(?:,|,\\s)([A-Z]{1}.*?)(?:\\s\\(|:|,)\")\n",
    "schools = list(map(lambda item: school_pattern.search(item).group(1), list_text))# Pattern to match the salaries\n",
    "print(schools)\n",
    "salary_pattern = re.compile(r'\\$.+')\n",
    "salaries = list(map(lambda item: salary_pattern.search(item).group(), list_text))\n",
    "salaries = [int(\"\".join(s[1:].split(\",\"))) for s in salaries]\n",
    "print(salaries)"
   ]
  },
  {
   "cell_type": "code",
   "execution_count": null,
   "metadata": {},
   "outputs": [],
   "source": []
  }
 ],
 "metadata": {
  "kernelspec": {
   "display_name": "Python 3",
   "language": "python",
   "name": "python3"
  },
  "language_info": {
   "codemirror_mode": {
    "name": "ipython",
    "version": 3
   },
   "file_extension": ".py",
   "mimetype": "text/x-python",
   "name": "python",
   "nbconvert_exporter": "python",
   "pygments_lexer": "ipython3",
   "version": "3.6.8"
  }
 },
 "nbformat": 4,
 "nbformat_minor": 4
}
