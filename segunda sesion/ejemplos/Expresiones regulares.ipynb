{
 "cells": [
  {
   "cell_type": "markdown",
   "metadata": {},
   "source": [
    "# Buscando coincidencias"
   ]
  },
  {
   "cell_type": "code",
   "execution_count": 2,
   "metadata": {},
   "outputs": [],
   "source": [
    "import re\n",
    "patron = re.compile(r\"foo\")\n",
    "texto = \"\"\" bar foo bar\n",
    "foo barbarfoo\n",
    "foofoo foo bar\"\"\""
   ]
  },
  {
   "cell_type": "code",
   "execution_count": 3,
   "metadata": {},
   "outputs": [
    {
     "name": "stdout",
     "output_type": "stream",
     "text": [
      "None\n"
     ]
    }
   ],
   "source": [
    "print(patron.match(texto))"
   ]
  },
  {
   "cell_type": "code",
   "execution_count": 5,
   "metadata": {},
   "outputs": [
    {
     "data": {
      "text/plain": [
       "<_sre.SRE_Match object; span=(5, 8), match='foo'>"
      ]
     },
     "execution_count": 5,
     "metadata": {},
     "output_type": "execute_result"
    }
   ],
   "source": [
    "s = patron.search(texto)\n",
    "s"
   ]
  },
  {
   "cell_type": "code",
   "execution_count": 6,
   "metadata": {},
   "outputs": [
    {
     "data": {
      "text/plain": [
       "['foo', 'foo', 'foo', 'foo', 'foo', 'foo']"
      ]
     },
     "execution_count": 6,
     "metadata": {},
     "output_type": "execute_result"
    }
   ],
   "source": [
    "fa = patron.findall(texto)\n",
    "fa"
   ]
  },
  {
   "cell_type": "code",
   "execution_count": 7,
   "metadata": {},
   "outputs": [
    {
     "data": {
      "text/plain": [
       "<callable_iterator at 0x7fb2643d3978>"
      ]
     },
     "execution_count": 7,
     "metadata": {},
     "output_type": "execute_result"
    }
   ],
   "source": [
    "fi = patron.finditer(texto)\n",
    "fi"
   ]
  },
  {
   "cell_type": "code",
   "execution_count": 8,
   "metadata": {},
   "outputs": [
    {
     "data": {
      "text/plain": [
       "<_sre.SRE_Match object; span=(5, 8), match='foo'>"
      ]
     },
     "execution_count": 8,
     "metadata": {},
     "output_type": "execute_result"
    }
   ],
   "source": [
    "next(fi)"
   ]
  },
  {
   "cell_type": "code",
   "execution_count": 9,
   "metadata": {},
   "outputs": [
    {
     "data": {
      "text/plain": [
       "<_sre.SRE_Match object; span=(13, 16), match='foo'>"
      ]
     },
     "execution_count": 9,
     "metadata": {},
     "output_type": "execute_result"
    }
   ],
   "source": [
    "next(fi)"
   ]
  },
  {
   "cell_type": "code",
   "execution_count": 10,
   "metadata": {},
   "outputs": [
    {
     "data": {
      "text/plain": [
       "('foo', 5, 8, (5, 8))"
      ]
     },
     "execution_count": 10,
     "metadata": {},
     "output_type": "execute_result"
    }
   ],
   "source": [
    "s.group(), s.start(), s.end(), s.span()"
   ]
  },
  {
   "cell_type": "markdown",
   "metadata": {},
   "source": [
    "# Modificando el texto de entrada"
   ]
  },
  {
   "cell_type": "code",
   "execution_count": 14,
   "metadata": {},
   "outputs": [],
   "source": [
    "becquer = \"\"\"Podrá nublarse el sol eternamente; \n",
    "Podrá secarse en un instante el mar; \n",
    "Podrá romperse el eje de la tierra \n",
    "como un débil cristal. \n",
    "¡todo sucederá! Podrá la muerte \n",
    "cubrirme con su fúnebre crespón; \n",
    "Pero jamás en mí podrá apagarse \n",
    "la llama de tu amor.\"\"\"\n",
    "patron = re.compile(r\"\\W+\")"
   ]
  },
  {
   "cell_type": "code",
   "execution_count": 15,
   "metadata": {},
   "outputs": [
    {
     "data": {
      "text/plain": [
       "['Podrá',\n",
       " 'nublarse',\n",
       " 'el',\n",
       " 'sol',\n",
       " 'eternamente',\n",
       " 'Podrá',\n",
       " 'secarse',\n",
       " 'en',\n",
       " 'un',\n",
       " 'instante']"
      ]
     },
     "execution_count": 15,
     "metadata": {},
     "output_type": "execute_result"
    }
   ],
   "source": [
    "palabras = patron.split(becquer)\n",
    "palabras[:10]  # 10 primeras palabras"
   ]
  },
  {
   "cell_type": "code",
   "execution_count": 16,
   "metadata": {},
   "outputs": [
    {
     "data": {
      "text/plain": [
       "['Podrá',\n",
       " 'nublarse',\n",
       " 'el',\n",
       " 'sol',\n",
       " 'eternamente',\n",
       " 'Podrá secarse en un instante el mar; \\nPodrá romperse el eje de la tierra \\ncomo un débil cristal. \\n¡todo sucederá! Podrá la muerte \\ncubrirme con su fúnebre crespón; \\nPero jamás en mí podrá apagarse \\nla llama de tu amor.']"
      ]
     },
     "execution_count": 16,
     "metadata": {},
     "output_type": "execute_result"
    }
   ],
   "source": [
    "patron.split(becquer, 5)  # 5: Tope de divisiones"
   ]
  },
  {
   "cell_type": "code",
   "execution_count": 17,
   "metadata": {},
   "outputs": [
    {
     "name": "stdout",
     "output_type": "stream",
     "text": [
      "Puede nublarse el sol eternamente; \n",
      "Puede secarse en un instante el mar; \n",
      "Puede romperse el eje de la tierra \n",
      "como un débil cristal. \n",
      "¡todo sucederá! Puede la muerte \n",
      "cubrirme con su fúnebre crespón; \n",
      "Pero jamás en mí Puede apagarse \n",
      "la llama de tu amor.\n"
     ]
    }
   ],
   "source": [
    "podra = re.compile(r\"(P|p)odrá\")\n",
    "puede = podra.sub(\"Puede\", becquer)\n",
    "print(puede)"
   ]
  },
  {
   "cell_type": "code",
   "execution_count": 18,
   "metadata": {},
   "outputs": [
    {
     "name": "stdout",
     "output_type": "stream",
     "text": [
      "Puede nublarse el sol eternamente; \n",
      "Puede secarse en un instante el mar; \n",
      "Podrá romperse el eje de la tierra \n",
      "como un débil cristal. \n",
      "¡todo sucederá! Podrá la muerte \n",
      "cubrirme con su fúnebre crespón; \n",
      "Pero jamás en mí podrá apagarse \n",
      "la llama de tu amor.\n"
     ]
    }
   ],
   "source": [
    "puede = podra.sub(\"Puede\", becquer, 2)\n",
    "print(puede)"
   ]
  },
  {
   "cell_type": "markdown",
   "metadata": {},
   "source": [
    "# Nombrando los grupos"
   ]
  },
  {
   "cell_type": "code",
   "execution_count": 19,
   "metadata": {},
   "outputs": [],
   "source": [
    "# Accediendo a los grupos por sus indices\n",
    "patron = re.compile(r\"(\\w+) (\\w+)\")\n",
    "s = patron.search(\"Raul Lopez\")"
   ]
  },
  {
   "cell_type": "code",
   "execution_count": 20,
   "metadata": {},
   "outputs": [
    {
     "data": {
      "text/plain": [
       "'Raul'"
      ]
     },
     "execution_count": 20,
     "metadata": {},
     "output_type": "execute_result"
    }
   ],
   "source": [
    "s.group(1)"
   ]
  },
  {
   "cell_type": "code",
   "execution_count": 21,
   "metadata": {},
   "outputs": [
    {
     "data": {
      "text/plain": [
       "'Lopez'"
      ]
     },
     "execution_count": 21,
     "metadata": {},
     "output_type": "execute_result"
    }
   ],
   "source": [
    "s.group(2)"
   ]
  },
  {
   "cell_type": "markdown",
   "metadata": {},
   "source": []
  },
  {
   "cell_type": "code",
   "execution_count": 24,
   "metadata": {},
   "outputs": [],
   "source": [
    "patron = re.compile(r\"(?P<nombre>\\w+) (?P<apellido>\\w+)\")\n",
    "s = patron.search(\"Raul Lopez\")"
   ]
  },
  {
   "cell_type": "code",
   "execution_count": 25,
   "metadata": {},
   "outputs": [
    {
     "data": {
      "text/plain": [
       "'Raul'"
      ]
     },
     "execution_count": 25,
     "metadata": {},
     "output_type": "execute_result"
    }
   ],
   "source": [
    "s.group(\"nombre\")"
   ]
  },
  {
   "cell_type": "code",
   "execution_count": 26,
   "metadata": {},
   "outputs": [
    {
     "data": {
      "text/plain": [
       "'Lopez'"
      ]
     },
     "execution_count": 26,
     "metadata": {},
     "output_type": "execute_result"
    }
   ],
   "source": [
    "s.group(\"apellido\")"
   ]
  },
  {
   "cell_type": "code",
   "execution_count": null,
   "metadata": {},
   "outputs": [],
   "source": []
  }
 ],
 "metadata": {
  "kernelspec": {
   "display_name": "Python 3",
   "language": "python",
   "name": "python3"
  },
  "language_info": {
   "codemirror_mode": {
    "name": "ipython",
    "version": 3
   },
   "file_extension": ".py",
   "mimetype": "text/x-python",
   "name": "python",
   "nbconvert_exporter": "python",
   "pygments_lexer": "ipython3",
   "version": "3.6.8"
  }
 },
 "nbformat": 4,
 "nbformat_minor": 4
}
